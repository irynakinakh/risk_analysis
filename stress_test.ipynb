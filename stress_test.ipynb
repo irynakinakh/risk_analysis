{
 "cells": [
  {
   "cell_type": "code",
   "execution_count": 25,
   "metadata": {},
   "outputs": [],
   "source": [
    "import numpy as np\n",
    "import pandas as pd\n",
    "import scipy as sc\n",
    "import random\n",
    "from scipy import stats\n",
    "from sklearn.metrics import mean_squared_error\n",
    "import math"
   ]
  },
  {
   "cell_type": "code",
   "execution_count": 3,
   "metadata": {},
   "outputs": [],
   "source": [
    "def var_monte_carlo(df, n_sample=10_000):\n",
    "    w = [4, 2, 6, 0.5]\n",
    "    \n",
    "    cols = df.columns\n",
    "    \n",
    "    col1 = df['Actuvia']\n",
    "    std1 = np.std(col1)\n",
    "    mean1 = np.mean(col1)\n",
    "    \n",
    "    col2 = df['Prost']\n",
    "    std2 = np.std(col2)\n",
    "    mean2 = np.mean(col2)\n",
    "    \n",
    "    col3 = df['Zhuw']\n",
    "    std3 = np.std(col3)\n",
    "    mean3 = np.mean(col3)\n",
    "    \n",
    "    col4 = df['Actim']\n",
    "    std4 = np.std(col4)\n",
    "    mean4 = np.mean(col4)\n",
    "    \n",
    "    col1_gen = np.random.normal(mean1, std1, n_sample)\n",
    "    col2_gen = np.random.normal(mean2, std2, n_sample)\n",
    "    col3_gen = np.random.normal(mean3, std3, n_sample)\n",
    "    col4_gen = np.random.normal(mean4, std4, n_sample)\n",
    "    \n",
    "    help_dict = {cols[2]: col1_gen, cols[3]: col2_gen, cols[4]: col3_gen, cols[5]: col4_gen}\n",
    "    \n",
    "    new_df = pd.DataFrame(help_dict)\n",
    "    \n",
    "    new_df['Portfolio'] = new_df['Actuvia'] * w[0] + new_df['Prost'] * w[1] + new_df['Zhuw'] * w[2] + new_df['Actim'] * w[3]\n",
    "\n",
    "    col_portfolio = new_df['Portfolio']\n",
    "    \n",
    "    std_port = np.std(col_portfolio)\n",
    "    \n",
    "    return 1.282 * std_port\n"
   ]
  },
  {
   "cell_type": "code",
   "execution_count": 13,
   "metadata": {},
   "outputs": [],
   "source": [
    "def VAR_by_year(df):\n",
    "    df['date'] = pd.to_datetime(df['date'], format='%d.%m.%Y', errors='ignore')\n",
    "    df['year'] = df['date'].dt.year\n",
    "    arr = []\n",
    "    for i in [2016, 2017, 2018]:\n",
    "        v = var_monte_carlo(df[df['year'] == i])\n",
    "        arr.append(v)\n",
    "    return arr"
   ]
  },
  {
   "cell_type": "code",
   "execution_count": 14,
   "metadata": {},
   "outputs": [],
   "source": [
    "df = pd.read_csv('stress_test.csv', sep=';')"
   ]
  },
  {
   "cell_type": "code",
   "execution_count": 15,
   "metadata": {},
   "outputs": [
    {
     "data": {
      "text/html": [
       "<div>\n",
       "<style scoped>\n",
       "    .dataframe tbody tr th:only-of-type {\n",
       "        vertical-align: middle;\n",
       "    }\n",
       "\n",
       "    .dataframe tbody tr th {\n",
       "        vertical-align: top;\n",
       "    }\n",
       "\n",
       "    .dataframe thead th {\n",
       "        text-align: right;\n",
       "    }\n",
       "</style>\n",
       "<table border=\"1\" class=\"dataframe\">\n",
       "  <thead>\n",
       "    <tr style=\"text-align: right;\">\n",
       "      <th></th>\n",
       "      <th>date</th>\n",
       "      <th>time</th>\n",
       "      <th>Actuvia</th>\n",
       "      <th>Prost</th>\n",
       "      <th>Zhuw</th>\n",
       "      <th>Actim</th>\n",
       "    </tr>\n",
       "  </thead>\n",
       "  <tbody>\n",
       "    <tr>\n",
       "      <th>0</th>\n",
       "      <td>01.01.2016</td>\n",
       "      <td>-38</td>\n",
       "      <td>63.119383</td>\n",
       "      <td>38.784963</td>\n",
       "      <td>31.331871</td>\n",
       "      <td>87.445457</td>\n",
       "    </tr>\n",
       "    <tr>\n",
       "      <th>1</th>\n",
       "      <td>01.02.2016</td>\n",
       "      <td>-37</td>\n",
       "      <td>56.653106</td>\n",
       "      <td>40.012257</td>\n",
       "      <td>31.051250</td>\n",
       "      <td>86.428487</td>\n",
       "    </tr>\n",
       "    <tr>\n",
       "      <th>2</th>\n",
       "      <td>01.03.2016</td>\n",
       "      <td>-36</td>\n",
       "      <td>58.822023</td>\n",
       "      <td>46.706387</td>\n",
       "      <td>27.899228</td>\n",
       "      <td>95.764465</td>\n",
       "    </tr>\n",
       "    <tr>\n",
       "      <th>3</th>\n",
       "      <td>01.04.2016</td>\n",
       "      <td>-35</td>\n",
       "      <td>61.346837</td>\n",
       "      <td>48.953399</td>\n",
       "      <td>29.980562</td>\n",
       "      <td>87.885370</td>\n",
       "    </tr>\n",
       "    <tr>\n",
       "      <th>4</th>\n",
       "      <td>01.05.2016</td>\n",
       "      <td>-34</td>\n",
       "      <td>62.115184</td>\n",
       "      <td>33.558366</td>\n",
       "      <td>28.727459</td>\n",
       "      <td>87.116991</td>\n",
       "    </tr>\n",
       "  </tbody>\n",
       "</table>\n",
       "</div>"
      ],
      "text/plain": [
       "         date  time    Actuvia      Prost       Zhuw      Actim\n",
       "0  01.01.2016   -38  63.119383  38.784963  31.331871  87.445457\n",
       "1  01.02.2016   -37  56.653106  40.012257  31.051250  86.428487\n",
       "2  01.03.2016   -36  58.822023  46.706387  27.899228  95.764465\n",
       "3  01.04.2016   -35  61.346837  48.953399  29.980562  87.885370\n",
       "4  01.05.2016   -34  62.115184  33.558366  28.727459  87.116991"
      ]
     },
     "execution_count": 15,
     "metadata": {},
     "output_type": "execute_result"
    }
   ],
   "source": [
    "df.head()"
   ]
  },
  {
   "cell_type": "code",
   "execution_count": 21,
   "metadata": {},
   "outputs": [
    {
     "data": {
      "text/plain": [
       "[23.19487223631193, 26.043710236023305, 30.21927676072491]"
      ]
     },
     "execution_count": 21,
     "metadata": {},
     "output_type": "execute_result"
    }
   ],
   "source": [
    "arr = VAR_by_year(df)\n",
    "arr"
   ]
  },
  {
   "cell_type": "code",
   "execution_count": null,
   "metadata": {},
   "outputs": [],
   "source": []
  },
  {
   "cell_type": "code",
   "execution_count": null,
   "metadata": {},
   "outputs": [],
   "source": []
  },
  {
   "cell_type": "code",
   "execution_count": 22,
   "metadata": {},
   "outputs": [],
   "source": [
    "df1 = pd.read_csv('data1.csv', sep=';')"
   ]
  },
  {
   "cell_type": "code",
   "execution_count": 23,
   "metadata": {},
   "outputs": [
    {
     "data": {
      "text/plain": [
       "[23.99470260089553, 25.143355925001007, 29.370589673181037]"
      ]
     },
     "execution_count": 23,
     "metadata": {},
     "output_type": "execute_result"
    }
   ],
   "source": [
    "arr_actual = VAR_by_year(df1)\n",
    "arr_actual"
   ]
  },
  {
   "cell_type": "code",
   "execution_count": 27,
   "metadata": {},
   "outputs": [
    {
     "name": "stdout",
     "output_type": "stream",
     "text": [
      "Root Mean Squared Error: 0.8506147326198997\n"
     ]
    }
   ],
   "source": [
    "rms = math.sqrt(mean_squared_error(arr, arr_actual))\n",
    "print(\"Root Mean Squared Error: {0}\".format(rms))"
   ]
  },
  {
   "cell_type": "code",
   "execution_count": null,
   "metadata": {},
   "outputs": [],
   "source": []
  }
 ],
 "metadata": {
  "kernelspec": {
   "display_name": "Python 3",
   "language": "python",
   "name": "python3"
  },
  "language_info": {
   "codemirror_mode": {
    "name": "ipython",
    "version": 3
   },
   "file_extension": ".py",
   "mimetype": "text/x-python",
   "name": "python",
   "nbconvert_exporter": "python",
   "pygments_lexer": "ipython3",
   "version": "3.7.3"
  }
 },
 "nbformat": 4,
 "nbformat_minor": 2
}
