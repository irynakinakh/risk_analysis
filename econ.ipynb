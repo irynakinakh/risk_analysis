{
 "cells": [
  {
   "cell_type": "markdown",
   "metadata": {},
   "source": [
    "# Value by Risk at Historical Data"
   ]
  },
  {
   "cell_type": "code",
   "execution_count": 1,
   "metadata": {},
   "outputs": [],
   "source": [
    "import numpy as np\n",
    "import pandas as pd\n",
    "import math\n",
    "import matplotlib.pyplot as plt"
   ]
  },
  {
   "cell_type": "code",
   "execution_count": 2,
   "metadata": {},
   "outputs": [],
   "source": [
    "df = pd.read_csv(\"data1.csv\", sep = \";\")"
   ]
  },
  {
   "cell_type": "code",
   "execution_count": 3,
   "metadata": {},
   "outputs": [
    {
     "data": {
      "text/html": [
       "<div>\n",
       "<style scoped>\n",
       "    .dataframe tbody tr th:only-of-type {\n",
       "        vertical-align: middle;\n",
       "    }\n",
       "\n",
       "    .dataframe tbody tr th {\n",
       "        vertical-align: top;\n",
       "    }\n",
       "\n",
       "    .dataframe thead th {\n",
       "        text-align: right;\n",
       "    }\n",
       "</style>\n",
       "<table border=\"1\" class=\"dataframe\">\n",
       "  <thead>\n",
       "    <tr style=\"text-align: right;\">\n",
       "      <th></th>\n",
       "      <th>date</th>\n",
       "      <th>time</th>\n",
       "      <th>Actuvia</th>\n",
       "      <th>Prost</th>\n",
       "      <th>Zhuw</th>\n",
       "      <th>Actim</th>\n",
       "    </tr>\n",
       "  </thead>\n",
       "  <tbody>\n",
       "    <tr>\n",
       "      <th>34</th>\n",
       "      <td>01.11.2018</td>\n",
       "      <td>-4</td>\n",
       "      <td>58.852372</td>\n",
       "      <td>40.664455</td>\n",
       "      <td>25.566430</td>\n",
       "      <td>120.782840</td>\n",
       "    </tr>\n",
       "    <tr>\n",
       "      <th>35</th>\n",
       "      <td>01.12.2018</td>\n",
       "      <td>-3</td>\n",
       "      <td>59.864980</td>\n",
       "      <td>41.834031</td>\n",
       "      <td>32.063500</td>\n",
       "      <td>112.840962</td>\n",
       "    </tr>\n",
       "    <tr>\n",
       "      <th>36</th>\n",
       "      <td>01.01.2019</td>\n",
       "      <td>-2</td>\n",
       "      <td>63.101786</td>\n",
       "      <td>45.834003</td>\n",
       "      <td>31.549725</td>\n",
       "      <td>126.379636</td>\n",
       "    </tr>\n",
       "    <tr>\n",
       "      <th>37</th>\n",
       "      <td>01.02.2019</td>\n",
       "      <td>-1</td>\n",
       "      <td>61.561212</td>\n",
       "      <td>45.649542</td>\n",
       "      <td>31.533993</td>\n",
       "      <td>125.090383</td>\n",
       "    </tr>\n",
       "    <tr>\n",
       "      <th>38</th>\n",
       "      <td>01.03.2019</td>\n",
       "      <td>0</td>\n",
       "      <td>57.214747</td>\n",
       "      <td>43.184031</td>\n",
       "      <td>31.886190</td>\n",
       "      <td>106.582874</td>\n",
       "    </tr>\n",
       "  </tbody>\n",
       "</table>\n",
       "</div>"
      ],
      "text/plain": [
       "          date  time    Actuvia      Prost       Zhuw       Actim\n",
       "34  01.11.2018    -4  58.852372  40.664455  25.566430  120.782840\n",
       "35  01.12.2018    -3  59.864980  41.834031  32.063500  112.840962\n",
       "36  01.01.2019    -2  63.101786  45.834003  31.549725  126.379636\n",
       "37  01.02.2019    -1  61.561212  45.649542  31.533993  125.090383\n",
       "38  01.03.2019     0  57.214747  43.184031  31.886190  106.582874"
      ]
     },
     "execution_count": 3,
     "metadata": {},
     "output_type": "execute_result"
    }
   ],
   "source": [
    "df.tail(5)"
   ]
  },
  {
   "cell_type": "code",
   "execution_count": 4,
   "metadata": {},
   "outputs": [
    {
     "data": {
      "text/html": [
       "<div>\n",
       "<style scoped>\n",
       "    .dataframe tbody tr th:only-of-type {\n",
       "        vertical-align: middle;\n",
       "    }\n",
       "\n",
       "    .dataframe tbody tr th {\n",
       "        vertical-align: top;\n",
       "    }\n",
       "\n",
       "    .dataframe thead th {\n",
       "        text-align: right;\n",
       "    }\n",
       "</style>\n",
       "<table border=\"1\" class=\"dataframe\">\n",
       "  <thead>\n",
       "    <tr style=\"text-align: right;\">\n",
       "      <th></th>\n",
       "      <th>date</th>\n",
       "      <th>time</th>\n",
       "      <th>Actuvia</th>\n",
       "      <th>Prost</th>\n",
       "      <th>Zhuw</th>\n",
       "      <th>Actim</th>\n",
       "    </tr>\n",
       "  </thead>\n",
       "  <tbody>\n",
       "    <tr>\n",
       "      <th>0</th>\n",
       "      <td>01.01.2016</td>\n",
       "      <td>-38</td>\n",
       "      <td>57.577623</td>\n",
       "      <td>38.981322</td>\n",
       "      <td>31.152355</td>\n",
       "      <td>113.668082</td>\n",
       "    </tr>\n",
       "    <tr>\n",
       "      <th>1</th>\n",
       "      <td>01.02.2016</td>\n",
       "      <td>-37</td>\n",
       "      <td>61.558370</td>\n",
       "      <td>37.585917</td>\n",
       "      <td>29.893259</td>\n",
       "      <td>112.758183</td>\n",
       "    </tr>\n",
       "    <tr>\n",
       "      <th>2</th>\n",
       "      <td>01.03.2016</td>\n",
       "      <td>-36</td>\n",
       "      <td>57.934659</td>\n",
       "      <td>45.124564</td>\n",
       "      <td>31.238058</td>\n",
       "      <td>123.477716</td>\n",
       "    </tr>\n",
       "    <tr>\n",
       "      <th>3</th>\n",
       "      <td>01.04.2016</td>\n",
       "      <td>-35</td>\n",
       "      <td>52.270286</td>\n",
       "      <td>40.699365</td>\n",
       "      <td>29.851398</td>\n",
       "      <td>112.898816</td>\n",
       "    </tr>\n",
       "    <tr>\n",
       "      <th>4</th>\n",
       "      <td>01.05.2016</td>\n",
       "      <td>-34</td>\n",
       "      <td>63.207726</td>\n",
       "      <td>38.415999</td>\n",
       "      <td>32.753887</td>\n",
       "      <td>111.826867</td>\n",
       "    </tr>\n",
       "  </tbody>\n",
       "</table>\n",
       "</div>"
      ],
      "text/plain": [
       "         date  time    Actuvia      Prost       Zhuw       Actim\n",
       "0  01.01.2016   -38  57.577623  38.981322  31.152355  113.668082\n",
       "1  01.02.2016   -37  61.558370  37.585917  29.893259  112.758183\n",
       "2  01.03.2016   -36  57.934659  45.124564  31.238058  123.477716\n",
       "3  01.04.2016   -35  52.270286  40.699365  29.851398  112.898816\n",
       "4  01.05.2016   -34  63.207726  38.415999  32.753887  111.826867"
      ]
     },
     "execution_count": 4,
     "metadata": {},
     "output_type": "execute_result"
    }
   ],
   "source": [
    "df.head(5)"
   ]
  },
  {
   "cell_type": "code",
   "execution_count": 5,
   "metadata": {},
   "outputs": [],
   "source": [
    "matrix = df[['Actuvia', 'Prost', 'Zhuw', 'Actim']]"
   ]
  },
  {
   "cell_type": "code",
   "execution_count": 6,
   "metadata": {},
   "outputs": [
    {
     "data": {
      "text/html": [
       "<div>\n",
       "<style scoped>\n",
       "    .dataframe tbody tr th:only-of-type {\n",
       "        vertical-align: middle;\n",
       "    }\n",
       "\n",
       "    .dataframe tbody tr th {\n",
       "        vertical-align: top;\n",
       "    }\n",
       "\n",
       "    .dataframe thead th {\n",
       "        text-align: right;\n",
       "    }\n",
       "</style>\n",
       "<table border=\"1\" class=\"dataframe\">\n",
       "  <thead>\n",
       "    <tr style=\"text-align: right;\">\n",
       "      <th></th>\n",
       "      <th>Actuvia</th>\n",
       "      <th>Prost</th>\n",
       "      <th>Zhuw</th>\n",
       "      <th>Actim</th>\n",
       "    </tr>\n",
       "  </thead>\n",
       "  <tbody>\n",
       "    <tr>\n",
       "      <th>34</th>\n",
       "      <td>58.852372</td>\n",
       "      <td>40.664455</td>\n",
       "      <td>25.566430</td>\n",
       "      <td>120.782840</td>\n",
       "    </tr>\n",
       "    <tr>\n",
       "      <th>35</th>\n",
       "      <td>59.864980</td>\n",
       "      <td>41.834031</td>\n",
       "      <td>32.063500</td>\n",
       "      <td>112.840962</td>\n",
       "    </tr>\n",
       "    <tr>\n",
       "      <th>36</th>\n",
       "      <td>63.101786</td>\n",
       "      <td>45.834003</td>\n",
       "      <td>31.549725</td>\n",
       "      <td>126.379636</td>\n",
       "    </tr>\n",
       "    <tr>\n",
       "      <th>37</th>\n",
       "      <td>61.561212</td>\n",
       "      <td>45.649542</td>\n",
       "      <td>31.533993</td>\n",
       "      <td>125.090383</td>\n",
       "    </tr>\n",
       "    <tr>\n",
       "      <th>38</th>\n",
       "      <td>57.214747</td>\n",
       "      <td>43.184031</td>\n",
       "      <td>31.886190</td>\n",
       "      <td>106.582874</td>\n",
       "    </tr>\n",
       "  </tbody>\n",
       "</table>\n",
       "</div>"
      ],
      "text/plain": [
       "      Actuvia      Prost       Zhuw       Actim\n",
       "34  58.852372  40.664455  25.566430  120.782840\n",
       "35  59.864980  41.834031  32.063500  112.840962\n",
       "36  63.101786  45.834003  31.549725  126.379636\n",
       "37  61.561212  45.649542  31.533993  125.090383\n",
       "38  57.214747  43.184031  31.886190  106.582874"
      ]
     },
     "execution_count": 6,
     "metadata": {},
     "output_type": "execute_result"
    }
   ],
   "source": [
    "matrix.tail(5)"
   ]
  },
  {
   "cell_type": "code",
   "execution_count": 7,
   "metadata": {},
   "outputs": [],
   "source": [
    "w = [4, 2, 6, 0.5]"
   ]
  },
  {
   "cell_type": "code",
   "execution_count": 8,
   "metadata": {},
   "outputs": [],
   "source": [
    "p0 = (matrix.iloc[-1] * w).sum()"
   ]
  },
  {
   "cell_type": "code",
   "execution_count": 9,
   "metadata": {},
   "outputs": [
    {
     "name": "stdout",
     "output_type": "stream",
     "text": [
      "p0 : 559.83562419\n"
     ]
    }
   ],
   "source": [
    "print(\"p0 : {0}\".format(p0))"
   ]
  },
  {
   "cell_type": "code",
   "execution_count": 10,
   "metadata": {},
   "outputs": [],
   "source": [
    "P = matrix.dot(w)"
   ]
  },
  {
   "cell_type": "code",
   "execution_count": 28,
   "metadata": {},
   "outputs": [],
   "source": [
    "P_date = pd.concat([P, df['date']], axis = 1)\n",
    "P_date = P_date.rename({0: \"P1\"}, axis = 1)"
   ]
  },
  {
   "cell_type": "code",
   "execution_count": 29,
   "metadata": {},
   "outputs": [
    {
     "data": {
      "text/html": [
       "<div>\n",
       "<style scoped>\n",
       "    .dataframe tbody tr th:only-of-type {\n",
       "        vertical-align: middle;\n",
       "    }\n",
       "\n",
       "    .dataframe tbody tr th {\n",
       "        vertical-align: top;\n",
       "    }\n",
       "\n",
       "    .dataframe thead th {\n",
       "        text-align: right;\n",
       "    }\n",
       "</style>\n",
       "<table border=\"1\" class=\"dataframe\">\n",
       "  <thead>\n",
       "    <tr style=\"text-align: right;\">\n",
       "      <th></th>\n",
       "      <th>P1</th>\n",
       "      <th>date</th>\n",
       "    </tr>\n",
       "  </thead>\n",
       "  <tbody>\n",
       "    <tr>\n",
       "      <th>0</th>\n",
       "      <td>552.021305</td>\n",
       "      <td>01.01.2016</td>\n",
       "    </tr>\n",
       "    <tr>\n",
       "      <th>1</th>\n",
       "      <td>557.143959</td>\n",
       "      <td>01.02.2016</td>\n",
       "    </tr>\n",
       "    <tr>\n",
       "      <th>2</th>\n",
       "      <td>571.154972</td>\n",
       "      <td>01.03.2016</td>\n",
       "    </tr>\n",
       "    <tr>\n",
       "      <th>3</th>\n",
       "      <td>526.037671</td>\n",
       "      <td>01.04.2016</td>\n",
       "    </tr>\n",
       "    <tr>\n",
       "      <th>4</th>\n",
       "      <td>582.099656</td>\n",
       "      <td>01.05.2016</td>\n",
       "    </tr>\n",
       "    <tr>\n",
       "      <th>5</th>\n",
       "      <td>579.056324</td>\n",
       "      <td>01.06.2016</td>\n",
       "    </tr>\n",
       "    <tr>\n",
       "      <th>6</th>\n",
       "      <td>551.372124</td>\n",
       "      <td>01.07.2016</td>\n",
       "    </tr>\n",
       "    <tr>\n",
       "      <th>7</th>\n",
       "      <td>555.988816</td>\n",
       "      <td>01.08.2016</td>\n",
       "    </tr>\n",
       "    <tr>\n",
       "      <th>8</th>\n",
       "      <td>581.450879</td>\n",
       "      <td>01.09.2016</td>\n",
       "    </tr>\n",
       "    <tr>\n",
       "      <th>9</th>\n",
       "      <td>567.960047</td>\n",
       "      <td>01.10.2016</td>\n",
       "    </tr>\n",
       "    <tr>\n",
       "      <th>10</th>\n",
       "      <td>594.314861</td>\n",
       "      <td>01.11.2016</td>\n",
       "    </tr>\n",
       "    <tr>\n",
       "      <th>11</th>\n",
       "      <td>584.745174</td>\n",
       "      <td>01.12.2016</td>\n",
       "    </tr>\n",
       "    <tr>\n",
       "      <th>12</th>\n",
       "      <td>577.408369</td>\n",
       "      <td>01.01.2017</td>\n",
       "    </tr>\n",
       "    <tr>\n",
       "      <th>13</th>\n",
       "      <td>563.712035</td>\n",
       "      <td>01.02.2017</td>\n",
       "    </tr>\n",
       "    <tr>\n",
       "      <th>14</th>\n",
       "      <td>550.221802</td>\n",
       "      <td>01.03.2017</td>\n",
       "    </tr>\n",
       "    <tr>\n",
       "      <th>15</th>\n",
       "      <td>575.387737</td>\n",
       "      <td>01.04.2017</td>\n",
       "    </tr>\n",
       "    <tr>\n",
       "      <th>16</th>\n",
       "      <td>571.647707</td>\n",
       "      <td>01.05.2017</td>\n",
       "    </tr>\n",
       "    <tr>\n",
       "      <th>17</th>\n",
       "      <td>556.941107</td>\n",
       "      <td>01.06.2017</td>\n",
       "    </tr>\n",
       "    <tr>\n",
       "      <th>18</th>\n",
       "      <td>540.378110</td>\n",
       "      <td>01.07.2017</td>\n",
       "    </tr>\n",
       "    <tr>\n",
       "      <th>19</th>\n",
       "      <td>580.890642</td>\n",
       "      <td>01.08.2017</td>\n",
       "    </tr>\n",
       "    <tr>\n",
       "      <th>20</th>\n",
       "      <td>549.195098</td>\n",
       "      <td>01.09.2017</td>\n",
       "    </tr>\n",
       "    <tr>\n",
       "      <th>21</th>\n",
       "      <td>575.208132</td>\n",
       "      <td>01.10.2017</td>\n",
       "    </tr>\n",
       "    <tr>\n",
       "      <th>22</th>\n",
       "      <td>543.876296</td>\n",
       "      <td>01.11.2017</td>\n",
       "    </tr>\n",
       "    <tr>\n",
       "      <th>23</th>\n",
       "      <td>576.562316</td>\n",
       "      <td>01.12.2017</td>\n",
       "    </tr>\n",
       "    <tr>\n",
       "      <th>24</th>\n",
       "      <td>555.726910</td>\n",
       "      <td>01.01.2018</td>\n",
       "    </tr>\n",
       "    <tr>\n",
       "      <th>25</th>\n",
       "      <td>604.704629</td>\n",
       "      <td>01.02.2018</td>\n",
       "    </tr>\n",
       "    <tr>\n",
       "      <th>26</th>\n",
       "      <td>563.096169</td>\n",
       "      <td>01.03.2018</td>\n",
       "    </tr>\n",
       "    <tr>\n",
       "      <th>27</th>\n",
       "      <td>538.939105</td>\n",
       "      <td>01.04.2018</td>\n",
       "    </tr>\n",
       "    <tr>\n",
       "      <th>28</th>\n",
       "      <td>526.634907</td>\n",
       "      <td>01.05.2018</td>\n",
       "    </tr>\n",
       "    <tr>\n",
       "      <th>29</th>\n",
       "      <td>538.529305</td>\n",
       "      <td>01.06.2018</td>\n",
       "    </tr>\n",
       "    <tr>\n",
       "      <th>30</th>\n",
       "      <td>556.858592</td>\n",
       "      <td>01.07.2018</td>\n",
       "    </tr>\n",
       "    <tr>\n",
       "      <th>31</th>\n",
       "      <td>593.321776</td>\n",
       "      <td>01.08.2018</td>\n",
       "    </tr>\n",
       "    <tr>\n",
       "      <th>32</th>\n",
       "      <td>554.645866</td>\n",
       "      <td>01.09.2018</td>\n",
       "    </tr>\n",
       "    <tr>\n",
       "      <th>33</th>\n",
       "      <td>545.618393</td>\n",
       "      <td>01.10.2018</td>\n",
       "    </tr>\n",
       "    <tr>\n",
       "      <th>34</th>\n",
       "      <td>530.528395</td>\n",
       "      <td>01.11.2018</td>\n",
       "    </tr>\n",
       "    <tr>\n",
       "      <th>35</th>\n",
       "      <td>571.929462</td>\n",
       "      <td>01.12.2018</td>\n",
       "    </tr>\n",
       "    <tr>\n",
       "      <th>36</th>\n",
       "      <td>596.563321</td>\n",
       "      <td>01.01.2019</td>\n",
       "    </tr>\n",
       "    <tr>\n",
       "      <th>37</th>\n",
       "      <td>589.293081</td>\n",
       "      <td>01.02.2019</td>\n",
       "    </tr>\n",
       "    <tr>\n",
       "      <th>38</th>\n",
       "      <td>559.835624</td>\n",
       "      <td>01.03.2019</td>\n",
       "    </tr>\n",
       "  </tbody>\n",
       "</table>\n",
       "</div>"
      ],
      "text/plain": [
       "            P1        date\n",
       "0   552.021305  01.01.2016\n",
       "1   557.143959  01.02.2016\n",
       "2   571.154972  01.03.2016\n",
       "3   526.037671  01.04.2016\n",
       "4   582.099656  01.05.2016\n",
       "5   579.056324  01.06.2016\n",
       "6   551.372124  01.07.2016\n",
       "7   555.988816  01.08.2016\n",
       "8   581.450879  01.09.2016\n",
       "9   567.960047  01.10.2016\n",
       "10  594.314861  01.11.2016\n",
       "11  584.745174  01.12.2016\n",
       "12  577.408369  01.01.2017\n",
       "13  563.712035  01.02.2017\n",
       "14  550.221802  01.03.2017\n",
       "15  575.387737  01.04.2017\n",
       "16  571.647707  01.05.2017\n",
       "17  556.941107  01.06.2017\n",
       "18  540.378110  01.07.2017\n",
       "19  580.890642  01.08.2017\n",
       "20  549.195098  01.09.2017\n",
       "21  575.208132  01.10.2017\n",
       "22  543.876296  01.11.2017\n",
       "23  576.562316  01.12.2017\n",
       "24  555.726910  01.01.2018\n",
       "25  604.704629  01.02.2018\n",
       "26  563.096169  01.03.2018\n",
       "27  538.939105  01.04.2018\n",
       "28  526.634907  01.05.2018\n",
       "29  538.529305  01.06.2018\n",
       "30  556.858592  01.07.2018\n",
       "31  593.321776  01.08.2018\n",
       "32  554.645866  01.09.2018\n",
       "33  545.618393  01.10.2018\n",
       "34  530.528395  01.11.2018\n",
       "35  571.929462  01.12.2018\n",
       "36  596.563321  01.01.2019\n",
       "37  589.293081  01.02.2019\n",
       "38  559.835624  01.03.2019"
      ]
     },
     "execution_count": 29,
     "metadata": {},
     "output_type": "execute_result"
    }
   ],
   "source": [
    "P_date"
   ]
  },
  {
   "cell_type": "code",
   "execution_count": 30,
   "metadata": {},
   "outputs": [],
   "source": [
    "P_date.to_csv(\"P1.csv\")"
   ]
  },
  {
   "cell_type": "code",
   "execution_count": 11,
   "metadata": {},
   "outputs": [],
   "source": [
    "Sigma = matrix.cov()"
   ]
  },
  {
   "cell_type": "code",
   "execution_count": 12,
   "metadata": {},
   "outputs": [
    {
     "data": {
      "text/html": [
       "<div>\n",
       "<style scoped>\n",
       "    .dataframe tbody tr th:only-of-type {\n",
       "        vertical-align: middle;\n",
       "    }\n",
       "\n",
       "    .dataframe tbody tr th {\n",
       "        vertical-align: top;\n",
       "    }\n",
       "\n",
       "    .dataframe thead th {\n",
       "        text-align: right;\n",
       "    }\n",
       "</style>\n",
       "<table border=\"1\" class=\"dataframe\">\n",
       "  <thead>\n",
       "    <tr style=\"text-align: right;\">\n",
       "      <th></th>\n",
       "      <th>Actuvia</th>\n",
       "      <th>Prost</th>\n",
       "      <th>Zhuw</th>\n",
       "      <th>Actim</th>\n",
       "    </tr>\n",
       "  </thead>\n",
       "  <tbody>\n",
       "    <tr>\n",
       "      <th>Actuvia</th>\n",
       "      <td>11.124520</td>\n",
       "      <td>0.124383</td>\n",
       "      <td>-1.704154</td>\n",
       "      <td>-6.034819</td>\n",
       "    </tr>\n",
       "    <tr>\n",
       "      <th>Prost</th>\n",
       "      <td>0.124383</td>\n",
       "      <td>28.143749</td>\n",
       "      <td>2.089170</td>\n",
       "      <td>6.231386</td>\n",
       "    </tr>\n",
       "    <tr>\n",
       "      <th>Zhuw</th>\n",
       "      <td>-1.704154</td>\n",
       "      <td>2.089170</td>\n",
       "      <td>3.553728</td>\n",
       "      <td>-0.254739</td>\n",
       "    </tr>\n",
       "    <tr>\n",
       "      <th>Actim</th>\n",
       "      <td>-6.034819</td>\n",
       "      <td>6.231386</td>\n",
       "      <td>-0.254739</td>\n",
       "      <td>89.508086</td>\n",
       "    </tr>\n",
       "  </tbody>\n",
       "</table>\n",
       "</div>"
      ],
      "text/plain": [
       "           Actuvia      Prost      Zhuw      Actim\n",
       "Actuvia  11.124520   0.124383 -1.704154  -6.034819\n",
       "Prost     0.124383  28.143749  2.089170   6.231386\n",
       "Zhuw     -1.704154   2.089170  3.553728  -0.254739\n",
       "Actim    -6.034819   6.231386 -0.254739  89.508086"
      ]
     },
     "execution_count": 12,
     "metadata": {},
     "output_type": "execute_result"
    }
   ],
   "source": [
    "Sigma.head(10)"
   ]
  },
  {
   "cell_type": "code",
   "execution_count": 94,
   "metadata": {},
   "outputs": [],
   "source": [
    "sigma = Sigma.dot(w)"
   ]
  },
  {
   "cell_type": "code",
   "execution_count": 95,
   "metadata": {},
   "outputs": [],
   "source": [
    "sigma = (sigma * w).sum()"
   ]
  },
  {
   "cell_type": "code",
   "execution_count": 96,
   "metadata": {},
   "outputs": [],
   "source": [
    "sigma = math.sqrt(sigma)"
   ]
  },
  {
   "cell_type": "code",
   "execution_count": 97,
   "metadata": {},
   "outputs": [
    {
     "name": "stdout",
     "output_type": "stream",
     "text": [
      "sigma: 19.950047728272033\n"
     ]
    }
   ],
   "source": [
    "print(\"sigma: {0}\".format(sigma))"
   ]
  },
  {
   "cell_type": "code",
   "execution_count": 98,
   "metadata": {},
   "outputs": [],
   "source": [
    "quant_P = p0 - 1.282 * sigma"
   ]
  },
  {
   "cell_type": "code",
   "execution_count": 99,
   "metadata": {},
   "outputs": [
    {
     "name": "stdout",
     "output_type": "stream",
     "text": [
      "quantile of P: 534.2596630023552\n"
     ]
    }
   ],
   "source": [
    "print(\"quantile of P: {0}\".format(quant_P))"
   ]
  },
  {
   "cell_type": "code",
   "execution_count": 100,
   "metadata": {},
   "outputs": [],
   "source": [
    "quant_L = p0 - quant_P"
   ]
  },
  {
   "cell_type": "code",
   "execution_count": 101,
   "metadata": {},
   "outputs": [
    {
     "name": "stdout",
     "output_type": "stream",
     "text": [
      "quantile of L: 25.575961187644793\n"
     ]
    }
   ],
   "source": [
    "print(\"quantile of L: {0}\".format(quant_L))"
   ]
  },
  {
   "cell_type": "markdown",
   "metadata": {},
   "source": [
    "# Validation"
   ]
  },
  {
   "cell_type": "code",
   "execution_count": 102,
   "metadata": {},
   "outputs": [],
   "source": [
    "def VAR(df):\n",
    "    matrix = df[['Actuvia', 'Prost', 'Zhuw', 'Actim']]\n",
    "    w = [4, 2, 6, 0.5]\n",
    "    Sigma = matrix.cov()\n",
    "    sigma = Sigma.dot(w)\n",
    "    sigma = (sigma * w).sum()\n",
    "    sigma = math.sqrt(sigma)\n",
    "    quant_P = 1.282 * sigma\n",
    "    return quant_P"
   ]
  },
  {
   "cell_type": "code",
   "execution_count": 103,
   "metadata": {},
   "outputs": [
    {
     "data": {
      "text/plain": [
       "25.575961187644747"
      ]
     },
     "execution_count": 103,
     "metadata": {},
     "output_type": "execute_result"
    }
   ],
   "source": [
    "VAR(df)"
   ]
  },
  {
   "cell_type": "code",
   "execution_count": 107,
   "metadata": {},
   "outputs": [],
   "source": [
    "def VAR_by_year(df):\n",
    "    df['date'] = pd.to_datetime(df['date'], format='%d.%m.%Y', errors='ignore')\n",
    "    df['year'] = df['date'].dt.year\n",
    "    arr = []\n",
    "    for i in [2016, 2017, 2018]:\n",
    "        v = VAR(df[df['year'] == i])\n",
    "        arr.append(v)\n",
    "    return arr"
   ]
  },
  {
   "cell_type": "code",
   "execution_count": 135,
   "metadata": {},
   "outputs": [],
   "source": [
    "arr = VAR_by_year(df)"
   ]
  },
  {
   "cell_type": "code",
   "execution_count": 136,
   "metadata": {},
   "outputs": [
    {
     "data": {
      "text/plain": [
       "[24.526765187941837, 18.75792364166608, 30.633983618474712]"
      ]
     },
     "execution_count": 136,
     "metadata": {},
     "output_type": "execute_result"
    }
   ],
   "source": [
    "arr"
   ]
  },
  {
   "cell_type": "code",
   "execution_count": 115,
   "metadata": {},
   "outputs": [],
   "source": [
    "actual = pd.read_csv(\"actual.csv\", header = None, sep = \";\")"
   ]
  },
  {
   "cell_type": "code",
   "execution_count": 116,
   "metadata": {},
   "outputs": [
    {
     "data": {
      "text/html": [
       "<div>\n",
       "<style scoped>\n",
       "    .dataframe tbody tr th:only-of-type {\n",
       "        vertical-align: middle;\n",
       "    }\n",
       "\n",
       "    .dataframe tbody tr th {\n",
       "        vertical-align: top;\n",
       "    }\n",
       "\n",
       "    .dataframe thead th {\n",
       "        text-align: right;\n",
       "    }\n",
       "</style>\n",
       "<table border=\"1\" class=\"dataframe\">\n",
       "  <thead>\n",
       "    <tr style=\"text-align: right;\">\n",
       "      <th></th>\n",
       "      <th>0</th>\n",
       "      <th>1</th>\n",
       "    </tr>\n",
       "  </thead>\n",
       "  <tbody>\n",
       "    <tr>\n",
       "      <th>0</th>\n",
       "      <td>2016</td>\n",
       "      <td>29.13</td>\n",
       "    </tr>\n",
       "    <tr>\n",
       "      <th>1</th>\n",
       "      <td>2017</td>\n",
       "      <td>27.87</td>\n",
       "    </tr>\n",
       "    <tr>\n",
       "      <th>2</th>\n",
       "      <td>2018</td>\n",
       "      <td>25.56</td>\n",
       "    </tr>\n",
       "  </tbody>\n",
       "</table>\n",
       "</div>"
      ],
      "text/plain": [
       "      0      1\n",
       "0  2016  29.13\n",
       "1  2017  27.87\n",
       "2  2018  25.56"
      ]
     },
     "execution_count": 116,
     "metadata": {},
     "output_type": "execute_result"
    }
   ],
   "source": [
    "actual"
   ]
  },
  {
   "cell_type": "code",
   "execution_count": 137,
   "metadata": {},
   "outputs": [],
   "source": [
    "arr_actual = actual[1].values.tolist()"
   ]
  },
  {
   "cell_type": "code",
   "execution_count": 138,
   "metadata": {},
   "outputs": [
    {
     "data": {
      "text/plain": [
       "[29.13, 27.87, 25.56]"
      ]
     },
     "execution_count": 138,
     "metadata": {},
     "output_type": "execute_result"
    }
   ],
   "source": [
    "arr_actual"
   ]
  },
  {
   "cell_type": "code",
   "execution_count": 145,
   "metadata": {},
   "outputs": [],
   "source": [
    "from sklearn.metrics import mean_squared_error"
   ]
  },
  {
   "cell_type": "code",
   "execution_count": 146,
   "metadata": {},
   "outputs": [],
   "source": [
    "rms = math.sqrt(mean_squared_error(arr, arr_actual))"
   ]
  },
  {
   "cell_type": "code",
   "execution_count": 147,
   "metadata": {},
   "outputs": [
    {
     "name": "stdout",
     "output_type": "stream",
     "text": [
      "Root Mean Squared Error: 6.581920086003321\n"
     ]
    }
   ],
   "source": [
    "print(\"Root Mean Squared Error: {0}\".format(rms))"
   ]
  },
  {
   "cell_type": "code",
   "execution_count": 149,
   "metadata": {},
   "outputs": [
    {
     "name": "stdout",
     "output_type": "stream",
     "text": [
      "Error percentage: 25.73479071896199\n"
     ]
    }
   ],
   "source": [
    "print(\"Error percentage: {0}\".format(rms*100/VAR(df)))"
   ]
  }
 ],
 "metadata": {
  "kernelspec": {
   "display_name": "Python 3",
   "language": "python",
   "name": "python3"
  },
  "language_info": {
   "codemirror_mode": {
    "name": "ipython",
    "version": 3
   },
   "file_extension": ".py",
   "mimetype": "text/x-python",
   "name": "python",
   "nbconvert_exporter": "python",
   "pygments_lexer": "ipython3",
   "version": "3.6.7"
  }
 },
 "nbformat": 4,
 "nbformat_minor": 2
}
